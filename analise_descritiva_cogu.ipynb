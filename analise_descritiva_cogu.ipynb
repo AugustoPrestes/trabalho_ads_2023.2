{
 "cells": [
  {
   "cell_type": "markdown",
   "id": "43a75a79",
   "metadata": {},
   "source": [
    "# Configurações"
   ]
  },
  {
   "cell_type": "markdown",
   "id": "5bc0e777",
   "metadata": {},
   "source": [
    "## Importações"
   ]
  },
  {
   "cell_type": "code",
   "execution_count": 2,
   "id": "f71ff831",
   "metadata": {
    "ExecuteTime": {
     "end_time": "2023-08-27T18:03:28.848158Z",
     "start_time": "2023-08-27T18:03:13.392727Z"
    }
   },
   "outputs": [],
   "source": [
    "import pandas as pd\n",
    "import numpy as np\n",
    "import seaborn as sns\n",
    "import matplotlib.pyplot as plt"
   ]
  },
  {
   "cell_type": "markdown",
   "id": "e4802634",
   "metadata": {},
   "source": [
    "## Configuração de Ambiente"
   ]
  },
  {
   "cell_type": "code",
   "execution_count": 15,
   "id": "378e87e7",
   "metadata": {
    "ExecuteTime": {
     "end_time": "2023-08-27T18:53:04.957903Z",
     "start_time": "2023-08-27T18:53:04.678998Z"
    }
   },
   "outputs": [],
   "source": [
    "# Ajustando o output das tabelas\n",
    "pd.set_option('display.max_columns', 50)\n",
    "\n",
    "# Ajustando o output das imagens\n",
    "%matplotlib inline"
   ]
  },
  {
   "cell_type": "markdown",
   "id": "dac5f54a",
   "metadata": {},
   "source": [
    "# Dicionário dos dados"
   ]
  },
  {
   "cell_type": "markdown",
   "id": "4d44fa6e",
   "metadata": {},
   "source": [
    "| Nome da Coluna | Tipo do Dado | Dado Estruturado | Categorias | Descrição |\n",
    "|:--------------:|:------------:|:----------------:|:----------:|:---------:|\n",
    "age\t|\tint64\t|\tnumérico\t|\tNone\t|\tIdade\n",
    "job\t|\tstring\t|\tcategórico\t|\tmanagement', 'technician', 'entrepreneur', 'blue-collar', 'unknown', 'retired', 'admin.', 'services', 'self-employed', 'unemployed', 'housemaid', 'student'\t|\tTipo de trabalho\n",
    "marital\t|\tstring\t|\tcategórico\t|\tmarried', 'single', 'divorced'\t|\tEstado civil\n",
    "education\t|\tstring\t|\tcategórico\t|\ttertiary', 'secondary', 'unknown', 'primary'\t|\tNível de escolaridade\n",
    "default\t|\tstring\t|\tbinário\t|\tno', 'yes'\t|\tEstá em inadimplencia?\n",
    "balance\t|\tint64\t|\tnumérico\t|\tNone\t|\tBalanço médio anual (Euro)\n",
    "housing\t|\tstring\t|\tbinário\t|\tno', 'yes'\t|\tTem crédito em habitação?\n",
    "loan\t|\tstring\t|\tbinário\t|\tno', 'yes'\t|\tTem empréstimo pessoal?\n",
    "contact\t|\tstring\t|\tcategórico\t|\tunknown', 'cellular', 'telephone'\t|\tTipo de contato\n",
    "day\t|\tint64\t|\tnumérico\t|\tNone\t|\tÚltimo dia do contato do mês \n",
    "month\t|\tstring\t|\tcategórico\t|\tmay', 'jun', 'jul', 'aug', 'oct', 'nov', 'dec', 'jan', 'feb', 'mar', 'apr', 'sep'\t|\tÚltimo mês do contato\n",
    "duration\t|\tint64\t|\tnumérico\t|\tNone\t|\tDuração do último contato (segundos)\n",
    "campaign\t|\tint64\t|\tnumérico\t|\tNone\t|\tQuantidade de contatos realizados durante campanha e para este cliente \n",
    "pdays\t|\tint64\t|\tnumérico\t|\tNone\t|\tNúmero de dias do último contato \n",
    "previous\t|\tint64\t|\tnumérico\t|\tNone\t|\tQuantidade de contato antes dessa campanha\n",
    "poutcome\t|\tstring\t|\tcategórico\t|\tunknown', 'failure', 'other', 'success'\t|\tResultado da campanha anterior\n",
    "y\t|\tstring\t|\tbinário\t|\tno', 'yes'\t|\tTarget"
   ]
  },
  {
   "cell_type": "markdown",
   "id": "8ae02227",
   "metadata": {},
   "source": [
    "# Tratando os Dados"
   ]
  },
  {
   "cell_type": "markdown",
   "id": "fc81ed3f",
   "metadata": {},
   "source": [
    "## Carregando os dados"
   ]
  },
  {
   "cell_type": "code",
   "execution_count": 13,
   "id": "21e24360",
   "metadata": {
    "ExecuteTime": {
     "end_time": "2023-08-27T18:49:30.973354Z",
     "start_time": "2023-08-27T18:49:30.846353Z"
    }
   },
   "outputs": [
    {
     "data": {
      "text/html": [
       "<div>\n",
       "<style scoped>\n",
       "    .dataframe tbody tr th:only-of-type {\n",
       "        vertical-align: middle;\n",
       "    }\n",
       "\n",
       "    .dataframe tbody tr th {\n",
       "        vertical-align: top;\n",
       "    }\n",
       "\n",
       "    .dataframe thead th {\n",
       "        text-align: right;\n",
       "    }\n",
       "</style>\n",
       "<table border=\"1\" class=\"dataframe\">\n",
       "  <thead>\n",
       "    <tr style=\"text-align: right;\">\n",
       "      <th></th>\n",
       "      <th>age</th>\n",
       "      <th>job</th>\n",
       "      <th>marital</th>\n",
       "      <th>education</th>\n",
       "      <th>default</th>\n",
       "      <th>balance</th>\n",
       "      <th>housing</th>\n",
       "      <th>loan</th>\n",
       "      <th>contact</th>\n",
       "      <th>day</th>\n",
       "      <th>month</th>\n",
       "      <th>duration</th>\n",
       "      <th>campaign</th>\n",
       "      <th>pdays</th>\n",
       "      <th>previous</th>\n",
       "      <th>poutcome</th>\n",
       "      <th>y</th>\n",
       "    </tr>\n",
       "  </thead>\n",
       "  <tbody>\n",
       "    <tr>\n",
       "      <th>0</th>\n",
       "      <td>58</td>\n",
       "      <td>management</td>\n",
       "      <td>married</td>\n",
       "      <td>tertiary</td>\n",
       "      <td>no</td>\n",
       "      <td>2143</td>\n",
       "      <td>yes</td>\n",
       "      <td>no</td>\n",
       "      <td>unknown</td>\n",
       "      <td>5</td>\n",
       "      <td>may</td>\n",
       "      <td>261</td>\n",
       "      <td>1</td>\n",
       "      <td>-1</td>\n",
       "      <td>0</td>\n",
       "      <td>unknown</td>\n",
       "      <td>no</td>\n",
       "    </tr>\n",
       "    <tr>\n",
       "      <th>1</th>\n",
       "      <td>44</td>\n",
       "      <td>technician</td>\n",
       "      <td>single</td>\n",
       "      <td>secondary</td>\n",
       "      <td>no</td>\n",
       "      <td>29</td>\n",
       "      <td>yes</td>\n",
       "      <td>no</td>\n",
       "      <td>unknown</td>\n",
       "      <td>5</td>\n",
       "      <td>may</td>\n",
       "      <td>151</td>\n",
       "      <td>1</td>\n",
       "      <td>-1</td>\n",
       "      <td>0</td>\n",
       "      <td>unknown</td>\n",
       "      <td>no</td>\n",
       "    </tr>\n",
       "    <tr>\n",
       "      <th>2</th>\n",
       "      <td>33</td>\n",
       "      <td>entrepreneur</td>\n",
       "      <td>married</td>\n",
       "      <td>secondary</td>\n",
       "      <td>no</td>\n",
       "      <td>2</td>\n",
       "      <td>yes</td>\n",
       "      <td>yes</td>\n",
       "      <td>unknown</td>\n",
       "      <td>5</td>\n",
       "      <td>may</td>\n",
       "      <td>76</td>\n",
       "      <td>1</td>\n",
       "      <td>-1</td>\n",
       "      <td>0</td>\n",
       "      <td>unknown</td>\n",
       "      <td>no</td>\n",
       "    </tr>\n",
       "    <tr>\n",
       "      <th>3</th>\n",
       "      <td>47</td>\n",
       "      <td>blue-collar</td>\n",
       "      <td>married</td>\n",
       "      <td>unknown</td>\n",
       "      <td>no</td>\n",
       "      <td>1506</td>\n",
       "      <td>yes</td>\n",
       "      <td>no</td>\n",
       "      <td>unknown</td>\n",
       "      <td>5</td>\n",
       "      <td>may</td>\n",
       "      <td>92</td>\n",
       "      <td>1</td>\n",
       "      <td>-1</td>\n",
       "      <td>0</td>\n",
       "      <td>unknown</td>\n",
       "      <td>no</td>\n",
       "    </tr>\n",
       "    <tr>\n",
       "      <th>4</th>\n",
       "      <td>33</td>\n",
       "      <td>unknown</td>\n",
       "      <td>single</td>\n",
       "      <td>unknown</td>\n",
       "      <td>no</td>\n",
       "      <td>1</td>\n",
       "      <td>no</td>\n",
       "      <td>no</td>\n",
       "      <td>unknown</td>\n",
       "      <td>5</td>\n",
       "      <td>may</td>\n",
       "      <td>198</td>\n",
       "      <td>1</td>\n",
       "      <td>-1</td>\n",
       "      <td>0</td>\n",
       "      <td>unknown</td>\n",
       "      <td>no</td>\n",
       "    </tr>\n",
       "  </tbody>\n",
       "</table>\n",
       "</div>"
      ],
      "text/plain": [
       "   age           job  marital  education default  balance housing loan  \\\n",
       "0   58    management  married   tertiary      no     2143     yes   no   \n",
       "1   44    technician   single  secondary      no       29     yes   no   \n",
       "2   33  entrepreneur  married  secondary      no        2     yes  yes   \n",
       "3   47   blue-collar  married    unknown      no     1506     yes   no   \n",
       "4   33       unknown   single    unknown      no        1      no   no   \n",
       "\n",
       "   contact  day month  duration  campaign  pdays  previous poutcome   y  \n",
       "0  unknown    5   may       261         1     -1         0  unknown  no  \n",
       "1  unknown    5   may       151         1     -1         0  unknown  no  \n",
       "2  unknown    5   may        76         1     -1         0  unknown  no  \n",
       "3  unknown    5   may        92         1     -1         0  unknown  no  \n",
       "4  unknown    5   may       198         1     -1         0  unknown  no  "
      ]
     },
     "execution_count": 13,
     "metadata": {},
     "output_type": "execute_result"
    }
   ],
   "source": [
    "data = pd.read_csv('./dados/bank-full.csv', sep=';')\n",
    "data.head()"
   ]
  },
  {
   "cell_type": "code",
   "execution_count": 38,
   "id": "7608ba03",
   "metadata": {
    "ExecuteTime": {
     "end_time": "2023-08-27T19:26:57.677931Z",
     "start_time": "2023-08-27T19:26:57.590933Z"
    },
    "scrolled": true
   },
   "outputs": [
    {
     "name": "stdout",
     "output_type": "stream",
     "text": [
      "<class 'pandas.core.frame.DataFrame'>\n",
      "RangeIndex: 45211 entries, 0 to 45210\n",
      "Data columns (total 17 columns):\n",
      " #   Column     Non-Null Count  Dtype \n",
      "---  ------     --------------  ----- \n",
      " 0   age        45211 non-null  int64 \n",
      " 1   job        45211 non-null  object\n",
      " 2   marital    45211 non-null  object\n",
      " 3   education  45211 non-null  object\n",
      " 4   default    45211 non-null  object\n",
      " 5   balance    45211 non-null  int64 \n",
      " 6   housing    45211 non-null  object\n",
      " 7   loan       45211 non-null  object\n",
      " 8   contact    45211 non-null  object\n",
      " 9   day        45211 non-null  int64 \n",
      " 10  month      45211 non-null  object\n",
      " 11  duration   45211 non-null  int64 \n",
      " 12  campaign   45211 non-null  int64 \n",
      " 13  pdays      45211 non-null  int64 \n",
      " 14  previous   45211 non-null  int64 \n",
      " 15  poutcome   45211 non-null  object\n",
      " 16  y          45211 non-null  object\n",
      "dtypes: int64(7), object(10)\n",
      "memory usage: 5.9+ MB\n"
     ]
    }
   ],
   "source": [
    "data.info()"
   ]
  },
  {
   "cell_type": "code",
   "execution_count": 63,
   "id": "6c3873f6",
   "metadata": {
    "ExecuteTime": {
     "end_time": "2023-08-27T20:01:39.984794Z",
     "start_time": "2023-08-27T20:01:39.940989Z"
    },
    "scrolled": true
   },
   "outputs": [
    {
     "name": "stdout",
     "output_type": "stream",
     "text": [
      "job:\n",
      "['management' 'technician' 'entrepreneur' 'blue-collar' 'unknown'\n",
      " 'retired' 'admin.' 'services' 'self-employed' 'unemployed' 'housemaid'\n",
      " 'student']\n",
      "\n",
      "marital:\n",
      "['married' 'single' 'divorced']\n",
      "\n",
      "education:\n",
      "['tertiary' 'secondary' 'unknown' 'primary']\n",
      "\n",
      "default:\n",
      "['no' 'yes']\n",
      "\n",
      "housing:\n",
      "['yes' 'no']\n",
      "\n",
      "loan:\n",
      "['no' 'yes']\n",
      "\n",
      "contact:\n",
      "['unknown' 'cellular' 'telephone']\n",
      "\n",
      "month:\n",
      "['may' 'jun' 'jul' 'aug' 'oct' 'nov' 'dec' 'jan' 'feb' 'mar' 'apr' 'sep']\n",
      "\n",
      "poutcome:\n",
      "['unknown' 'failure' 'other' 'success']\n",
      "\n",
      "y:\n",
      "['no' 'yes']\n",
      "\n"
     ]
    }
   ],
   "source": [
    "for n in data.columns:\n",
    "    if data[n].dtypes == object:\n",
    "        print(f\"{n}:\\n{data[n].unique()}\\n\")"
   ]
  },
  {
   "cell_type": "code",
   "execution_count": 62,
   "id": "420ed673",
   "metadata": {
    "ExecuteTime": {
     "end_time": "2023-08-27T20:01:37.813389Z",
     "start_time": "2023-08-27T20:01:37.791399Z"
    }
   },
   "outputs": [
    {
     "data": {
      "text/plain": [
       "dtype('O')"
      ]
     },
     "execution_count": 62,
     "metadata": {},
     "output_type": "execute_result"
    }
   ],
   "source": [
    "data['job'].dtypes"
   ]
  }
 ],
 "metadata": {
  "kernelspec": {
   "display_name": "Python 3 (ipykernel)",
   "language": "python",
   "name": "python3"
  },
  "language_info": {
   "codemirror_mode": {
    "name": "ipython",
    "version": 3
   },
   "file_extension": ".py",
   "mimetype": "text/x-python",
   "name": "python",
   "nbconvert_exporter": "python",
   "pygments_lexer": "ipython3",
   "version": "3.10.12"
  },
  "toc": {
   "base_numbering": 1,
   "nav_menu": {},
   "number_sections": true,
   "sideBar": true,
   "skip_h1_title": false,
   "title_cell": "Table of Contents",
   "title_sidebar": "Contents",
   "toc_cell": false,
   "toc_position": {
    "height": "calc(100% - 180px)",
    "left": "10px",
    "top": "150px",
    "width": "258px"
   },
   "toc_section_display": true,
   "toc_window_display": true
  }
 },
 "nbformat": 4,
 "nbformat_minor": 5
}
