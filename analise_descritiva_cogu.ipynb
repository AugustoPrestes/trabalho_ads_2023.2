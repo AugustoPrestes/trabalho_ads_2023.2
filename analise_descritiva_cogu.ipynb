{
 "cells": [
  {
   "cell_type": "markdown",
   "id": "43a75a79",
   "metadata": {},
   "source": [
    "# Configurações"
   ]
  },
  {
   "cell_type": "markdown",
   "id": "5bc0e777",
   "metadata": {},
   "source": [
    "## Importações"
   ]
  },
  {
   "cell_type": "code",
   "execution_count": 2,
   "id": "f71ff831",
   "metadata": {
    "ExecuteTime": {
     "end_time": "2023-08-29T21:38:58.849963Z",
     "start_time": "2023-08-29T21:38:48.001030Z"
    }
   },
   "outputs": [],
   "source": [
    "import pandas as pd\n",
    "import numpy as np\n",
    "import seaborn as sns\n",
    "import matplotlib.pyplot as plt"
   ]
  },
  {
   "cell_type": "markdown",
   "id": "e4802634",
   "metadata": {},
   "source": [
    "## Configuração de Ambiente"
   ]
  },
  {
   "cell_type": "code",
   "execution_count": 3,
   "id": "378e87e7",
   "metadata": {
    "ExecuteTime": {
     "end_time": "2023-08-29T21:38:58.958948Z",
     "start_time": "2023-08-29T21:38:58.852964Z"
    }
   },
   "outputs": [],
   "source": [
    "# Ajustando o output das tabelas\n",
    "pd.set_option('display.max_columns', 50)\n",
    "\n",
    "# Ajustando o output das imagens\n",
    "%matplotlib inline"
   ]
  },
  {
   "cell_type": "markdown",
   "id": "dac5f54a",
   "metadata": {},
   "source": [
    "# Dicionário dos dados"
   ]
  },
  {
   "cell_type": "markdown",
   "id": "4d44fa6e",
   "metadata": {},
   "source": [
    "| Nome da Coluna | Tipo do Dado | Dado Estruturado | Categorias | Descrição |\n",
    "|:--------------:|:------------:|:----------------:|:----------:|:---------:|\n",
    "age\t|\tint64\t|\tnumérico\t|\tNone\t|\tIdade\n",
    "job\t|\tstring\t|\tcategórico\t|\tmanagement', 'technician', 'entrepreneur', 'blue-collar', 'unknown', 'retired', 'admin.', 'services', 'self-employed', 'unemployed', 'housemaid', 'student'\t|\tTipo de trabalho\n",
    "marital\t|\tstring\t|\tcategórico\t|\tmarried', 'single', 'divorced'\t|\tEstado civil\n",
    "education\t|\tstring\t|\tcategórico\t|\ttertiary', 'secondary', 'unknown', 'primary'\t|\tNível de escolaridade\n",
    "default\t|\tstring\t|\tbinário\t|\tno', 'yes'\t|\tEstá em inadimplencia?\n",
    "balance\t|\tint64\t|\tnumérico\t|\tNone\t|\tBalanço médio anual (Euro)\n",
    "housing\t|\tstring\t|\tbinário\t|\tno', 'yes'\t|\tTem crédito em habitação?\n",
    "loan\t|\tstring\t|\tbinário\t|\tno', 'yes'\t|\tTem empréstimo pessoal?\n",
    "contact\t|\tstring\t|\tcategórico\t|\tunknown', 'cellular', 'telephone'\t|\tTipo de contato\n",
    "day\t|\tint64\t|\tnumérico\t|\tNone\t|\tÚltimo dia do contato do mês \n",
    "month\t|\tstring\t|\tcategórico\t|\tmay', 'jun', 'jul', 'aug', 'oct', 'nov', 'dec', 'jan', 'feb', 'mar', 'apr', 'sep'\t|\tÚltimo mês do contato\n",
    "duration\t|\tint64\t|\tnumérico\t|\tNone\t|\tDuração do último contato (segundos)\n",
    "campaign\t|\tint64\t|\tnumérico\t|\tNone\t|\tQuantidade de contatos realizados durante campanha e para este cliente \n",
    "pdays\t|\tint64\t|\tnumérico\t|\tNone\t|\tNúmero de dias do último contato \n",
    "previous\t|\tint64\t|\tnumérico\t|\tNone\t|\tQuantidade de contato antes dessa campanha\n",
    "poutcome\t|\tstring\t|\tcategórico\t|\tunknown', 'failure', 'other', 'success'\t|\tResultado da campanha anterior\n",
    "y\t|\tstring\t|\tbinário\t|\tno', 'yes'\t|\tTarget"
   ]
  },
  {
   "cell_type": "markdown",
   "id": "8ae02227",
   "metadata": {},
   "source": [
    "# Tratando os Dados"
   ]
  },
  {
   "cell_type": "markdown",
   "id": "fc81ed3f",
   "metadata": {},
   "source": [
    "## Carregando os dados"
   ]
  },
  {
   "cell_type": "code",
   "execution_count": 4,
   "id": "21e24360",
   "metadata": {
    "ExecuteTime": {
     "end_time": "2023-08-29T21:39:05.178490Z",
     "start_time": "2023-08-29T21:39:04.656608Z"
    }
   },
   "outputs": [
    {
     "data": {
      "text/html": [
       "<div>\n",
       "<style scoped>\n",
       "    .dataframe tbody tr th:only-of-type {\n",
       "        vertical-align: middle;\n",
       "    }\n",
       "\n",
       "    .dataframe tbody tr th {\n",
       "        vertical-align: top;\n",
       "    }\n",
       "\n",
       "    .dataframe thead th {\n",
       "        text-align: right;\n",
       "    }\n",
       "</style>\n",
       "<table border=\"1\" class=\"dataframe\">\n",
       "  <thead>\n",
       "    <tr style=\"text-align: right;\">\n",
       "      <th></th>\n",
       "      <th>age</th>\n",
       "      <th>job</th>\n",
       "      <th>marital</th>\n",
       "      <th>education</th>\n",
       "      <th>default</th>\n",
       "      <th>balance</th>\n",
       "      <th>housing</th>\n",
       "      <th>loan</th>\n",
       "      <th>contact</th>\n",
       "      <th>day</th>\n",
       "      <th>month</th>\n",
       "      <th>duration</th>\n",
       "      <th>campaign</th>\n",
       "      <th>pdays</th>\n",
       "      <th>previous</th>\n",
       "      <th>poutcome</th>\n",
       "      <th>y</th>\n",
       "    </tr>\n",
       "  </thead>\n",
       "  <tbody>\n",
       "    <tr>\n",
       "      <th>0</th>\n",
       "      <td>58</td>\n",
       "      <td>management</td>\n",
       "      <td>married</td>\n",
       "      <td>tertiary</td>\n",
       "      <td>no</td>\n",
       "      <td>2143</td>\n",
       "      <td>yes</td>\n",
       "      <td>no</td>\n",
       "      <td>unknown</td>\n",
       "      <td>5</td>\n",
       "      <td>may</td>\n",
       "      <td>261</td>\n",
       "      <td>1</td>\n",
       "      <td>-1</td>\n",
       "      <td>0</td>\n",
       "      <td>unknown</td>\n",
       "      <td>no</td>\n",
       "    </tr>\n",
       "    <tr>\n",
       "      <th>1</th>\n",
       "      <td>44</td>\n",
       "      <td>technician</td>\n",
       "      <td>single</td>\n",
       "      <td>secondary</td>\n",
       "      <td>no</td>\n",
       "      <td>29</td>\n",
       "      <td>yes</td>\n",
       "      <td>no</td>\n",
       "      <td>unknown</td>\n",
       "      <td>5</td>\n",
       "      <td>may</td>\n",
       "      <td>151</td>\n",
       "      <td>1</td>\n",
       "      <td>-1</td>\n",
       "      <td>0</td>\n",
       "      <td>unknown</td>\n",
       "      <td>no</td>\n",
       "    </tr>\n",
       "    <tr>\n",
       "      <th>2</th>\n",
       "      <td>33</td>\n",
       "      <td>entrepreneur</td>\n",
       "      <td>married</td>\n",
       "      <td>secondary</td>\n",
       "      <td>no</td>\n",
       "      <td>2</td>\n",
       "      <td>yes</td>\n",
       "      <td>yes</td>\n",
       "      <td>unknown</td>\n",
       "      <td>5</td>\n",
       "      <td>may</td>\n",
       "      <td>76</td>\n",
       "      <td>1</td>\n",
       "      <td>-1</td>\n",
       "      <td>0</td>\n",
       "      <td>unknown</td>\n",
       "      <td>no</td>\n",
       "    </tr>\n",
       "    <tr>\n",
       "      <th>3</th>\n",
       "      <td>47</td>\n",
       "      <td>blue-collar</td>\n",
       "      <td>married</td>\n",
       "      <td>unknown</td>\n",
       "      <td>no</td>\n",
       "      <td>1506</td>\n",
       "      <td>yes</td>\n",
       "      <td>no</td>\n",
       "      <td>unknown</td>\n",
       "      <td>5</td>\n",
       "      <td>may</td>\n",
       "      <td>92</td>\n",
       "      <td>1</td>\n",
       "      <td>-1</td>\n",
       "      <td>0</td>\n",
       "      <td>unknown</td>\n",
       "      <td>no</td>\n",
       "    </tr>\n",
       "    <tr>\n",
       "      <th>4</th>\n",
       "      <td>33</td>\n",
       "      <td>unknown</td>\n",
       "      <td>single</td>\n",
       "      <td>unknown</td>\n",
       "      <td>no</td>\n",
       "      <td>1</td>\n",
       "      <td>no</td>\n",
       "      <td>no</td>\n",
       "      <td>unknown</td>\n",
       "      <td>5</td>\n",
       "      <td>may</td>\n",
       "      <td>198</td>\n",
       "      <td>1</td>\n",
       "      <td>-1</td>\n",
       "      <td>0</td>\n",
       "      <td>unknown</td>\n",
       "      <td>no</td>\n",
       "    </tr>\n",
       "  </tbody>\n",
       "</table>\n",
       "</div>"
      ],
      "text/plain": [
       "   age           job  marital  education default  balance housing loan  \\\n",
       "0   58    management  married   tertiary      no     2143     yes   no   \n",
       "1   44    technician   single  secondary      no       29     yes   no   \n",
       "2   33  entrepreneur  married  secondary      no        2     yes  yes   \n",
       "3   47   blue-collar  married    unknown      no     1506     yes   no   \n",
       "4   33       unknown   single    unknown      no        1      no   no   \n",
       "\n",
       "   contact  day month  duration  campaign  pdays  previous poutcome   y  \n",
       "0  unknown    5   may       261         1     -1         0  unknown  no  \n",
       "1  unknown    5   may       151         1     -1         0  unknown  no  \n",
       "2  unknown    5   may        76         1     -1         0  unknown  no  \n",
       "3  unknown    5   may        92         1     -1         0  unknown  no  \n",
       "4  unknown    5   may       198         1     -1         0  unknown  no  "
      ]
     },
     "execution_count": 4,
     "metadata": {},
     "output_type": "execute_result"
    }
   ],
   "source": [
    "data = pd.read_csv('./dados/bank-full.csv', sep=';')\n",
    "data.head()"
   ]
  },
  {
   "cell_type": "code",
   "execution_count": 11,
   "id": "29e47e31",
   "metadata": {
    "ExecuteTime": {
     "end_time": "2023-08-29T21:44:02.180808Z",
     "start_time": "2023-08-29T21:44:02.159811Z"
    },
    "scrolled": true
   },
   "outputs": [],
   "source": [
    "data.drop(['y'], axis=1, inplace=True)"
   ]
  },
  {
   "cell_type": "markdown",
   "id": "5ebf4606",
   "metadata": {},
   "source": [
    "# Analisando os Dados"
   ]
  },
  {
   "cell_type": "markdown",
   "id": "113513dd",
   "metadata": {},
   "source": [
    "* Entendento o perfil dos clientes"
   ]
  },
  {
   "cell_type": "markdown",
   "id": "1b48682a",
   "metadata": {},
   "source": [
    "## Distribuição por Idade\n",
    "\n",
    "* "
   ]
  },
  {
   "cell_type": "code",
   "execution_count": 19,
   "id": "3f42364a",
   "metadata": {
    "ExecuteTime": {
     "end_time": "2023-08-29T22:02:15.560736Z",
     "start_time": "2023-08-29T22:02:15.160648Z"
    }
   },
   "outputs": [
    {
     "data": {
      "image/png": "[encoded data removed]",
      "text/plain": [
       "<Figure size 640x480 with 2 Axes>"
      ]
     },
     "metadata": {},
     "output_type": "display_data"
    }
   ],
   "source": [
    "fig, (ax1, ax2) = plt.subplots(2, 1)\n",
    "\n",
    "ax1.hist(data['age'])\n",
    "ax2.plot(data['age'])\n",
    "\n",
    "\n",
    "plt.show()"
   ]
  },
  {
   "cell_type": "code",
   "execution_count": null,
   "id": "fb83f8d8",
   "metadata": {},
   "outputs": [],
   "source": []
  }
 ],
 "metadata": {
  "kernelspec": {
   "display_name": "Python 3 (ipykernel)",
   "language": "python",
   "name": "python3"
  },
  "language_info": {
   "codemirror_mode": {
    "name": "ipython",
    "version": 3
   },
   "file_extension": ".py",
   "mimetype": "text/x-python",
   "name": "python",
   "nbconvert_exporter": "python",
   "pygments_lexer": "ipython3",
   "version": "3.10.12"
  },
  "toc": {
   "base_numbering": 1,
   "nav_menu": {},
   "number_sections": true,
   "sideBar": true,
   "skip_h1_title": false,
   "title_cell": "Table of Contents",
   "title_sidebar": "Contents",
   "toc_cell": false,
   "toc_position": {
    "height": "calc(100% - 180px)",
    "left": "10px",
    "top": "150px",
    "width": "258px"
   },
   "toc_section_display": true,
   "toc_window_display": false
  }
 },
 "nbformat": 4,
 "nbformat_minor": 5
}
